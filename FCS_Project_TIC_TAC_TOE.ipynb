{
 "cells": [
  {
   "cell_type": "code",
   "execution_count": null,
   "metadata": {},
   "outputs": [],
   "source": [
    "import random as rd\n",
    "import string"
   ]
  },
  {
   "cell_type": "code",
   "execution_count": null,
   "metadata": {},
   "outputs": [],
   "source": [
    "# Wining set\n",
    "win_1= {1,2,3}\n",
    "win_2={4,5,6}\n",
    "win_3={7,8,9}\n",
    "win_4={1,5,9}\n",
    "win_5={7,5,3}\n",
    "win_6={1,4,7}\n",
    "win_7={2,5,8}\n",
    "win_8={3,6,9}\n",
    "a=[]"
   ]
  },
  {
   "cell_type": "code",
   "execution_count": null,
   "metadata": {},
   "outputs": [],
   "source": [
    "def player_selection():\n",
    "    '''\n",
    "    randomly select first player\n",
    "    '''\n",
    "    s = \"Player no {}\"\n",
    "    return s.format(rd.randint(1,2))"
   ]
  },
  {
   "cell_type": "code",
   "execution_count": null,
   "metadata": {},
   "outputs": [],
   "source": [
    "def new_game():\n",
    "    '''\n",
    "    start new game\n",
    "    '''\n",
    "    global a , game, game_condition, player2_set, player1_set, player_1_sign,b\n",
    "    for i in range(9):\n",
    "        a.append(int(i+1))\n",
    "    player1_set= set()\n",
    "    player2_set= set()\n",
    "    game = {\"key_1\":\" \",\"key_2\":\" \",\"key_3\":\" \",\n",
    "         \"key_4\":\" \",\"key_5\":\" \",\"key_6\":\" \",\n",
    "        \"key_7\":\" \",\"key_8\":\" \",\"key_9\":\" \"}\n",
    "    board(game)\n",
    "    game_condition = True\n",
    "    player_1_sign = \" \"\n",
    "    b = list(game.keys())\n",
    "    tic_tac_toe()"
   ]
  },
  {
   "cell_type": "code",
   "execution_count": null,
   "metadata": {},
   "outputs": [],
   "source": [
    "def end_game():\n",
    "    '''\n",
    "    end the game\n",
    "    '''\n",
    "    global game_condition\n",
    "    game_condition = False\n",
    "    print(\"\\n Thanks for playing!!!!\")\n",
    "    "
   ]
  },
  {
   "cell_type": "code",
   "execution_count": null,
   "metadata": {},
   "outputs": [],
   "source": [
    "def replay():\n",
    "    ''' \n",
    "    again play the game\n",
    "    '''\n",
    "    newgame = input(\"New game? [Y/N] \")\n",
    "    if (newgame[0].lower() == \"y\"):\n",
    "        new_game()\n",
    "    elif (newgame[0].lower() == \"n\") :\n",
    "        end_game()\n",
    "    else:\n",
    "        print(\"Invalid\")\n",
    "        replay()"
   ]
  },
  {
   "cell_type": "code",
   "execution_count": null,
   "metadata": {},
   "outputs": [],
   "source": [
    "def check_win(set):\n",
    "    '''\n",
    "    to check whether any player is won or not\n",
    "    '''\n",
    "    if(set.intersection(win_1) == win_1 or\n",
    "      set.intersection(win_2) == win_2 or\n",
    "      set.intersection(win_3) == win_3 or\n",
    "      set.intersection(win_4) == win_4 or\n",
    "      set.intersection(win_5) == win_5 or\n",
    "      set.intersection(win_6) == win_6 or\n",
    "      set.intersection(win_7) == win_7 or\n",
    "      set.intersection(win_8) == win_8):\n",
    "        a.clear()\n",
    "        return True"
   ]
  },
  {
   "cell_type": "code",
   "execution_count": null,
   "metadata": {},
   "outputs": [],
   "source": [
    "def board(any1):\n",
    "    '''\n",
    "    to print the board\n",
    "    '''\n",
    "    board_row1 = \" {key_7} | {key_8} | {key_9} \"\n",
    "    board_row2 = \" {key_4} | {key_5} | {key_6} \"\n",
    "    board_row3 = \" {key_1} | {key_2} | {key_3} \"\n",
    "    print(board_row1.format_map(any1))\n",
    "    print(\"-----------\")\n",
    "    print(board_row2.format_map(any1))\n",
    "    print(\"-----------\")\n",
    "    print(board_row3.format_map(any1))"
   ]
  },
  {
   "cell_type": "code",
   "execution_count": null,
   "metadata": {},
   "outputs": [],
   "source": [
    "def player1(lst,click): \n",
    "    '''\n",
    "    player 1 moves\n",
    "    '''\n",
    "    global f_player\n",
    "    game[b[int(click)-1]] = player_1_sign.upper()\n",
    "    player1_set.add(click)\n",
    "    lst.remove(click)\n",
    "    f_player = \"Player no 2\"\n",
    "    board(game)\n",
    "    if (check_win(player1_set)):\n",
    "        print(\"Player 1 wins\")\n",
    "        replay()\n",
    "        \n",
    "def player2(lst,click):\n",
    "    '''\n",
    "    player 2 moves\n",
    "    '''\n",
    "    global f_player\n",
    "    game[b[int(click)-1]] = player_2_sign.upper()\n",
    "    player2_set.add(click)\n",
    "    lst.remove(click)\n",
    "    f_player = \"Player no 1\"\n",
    "    board(game)\n",
    "    if (check_win(player2_set)):\n",
    "        print(\"Player 2 wins\")\n",
    "        replay()\n",
    "   \n",
    "        "
   ]
  },
  {
   "cell_type": "code",
   "execution_count": null,
   "metadata": {},
   "outputs": [],
   "source": [
    "def tic_tac_toe():\n",
    "    '''\n",
    "    tic tac toe\n",
    "    '''\n",
    "    global player_1_sign, player_2_sign, f_player\n",
    "    while (player_1_sign != \"x\" and player_1_sign != \"o\"):\n",
    "        player_1_sign = input(\"Player 1 wants X / O \")\n",
    "        if (player_1_sign.lower() == \"x\" ):\n",
    "            player_2_sign = \"o\"\n",
    "        elif (player_1_sign.lower() == \"o\" ):\n",
    "            player_2_sign = \"x\"\n",
    "        else:\n",
    "            print(\"Invalid letter\")\n",
    "    f_player=player_selection()\n",
    "    print(f_player,\"will go first\")\n",
    "\n",
    "    click1 = int(input(\"Enter your position player (between 1 to 9) : \"))\n",
    "    if click1 in a: \n",
    "        if (f_player == \"Player no 1\"):\n",
    "            player1(a,click1)\n",
    "            \n",
    "        elif(f_player == \"Player no 2\"):\n",
    "            player2(a,click1)\n",
    "            \n",
    "            \n",
    "    while (len(a) != 0):\n",
    "        click = int(input(\"Enter your position player (between 1 to 9): \"))\n",
    "        if click in a:\n",
    "            if(f_player == \"Player no 1\"):\n",
    "                player1(a,click)\n",
    "            else:\n",
    "                player2(a,click)       \n",
    "        else:\n",
    "            print(\"invalid\")\n",
    "    if (game_condition == True):\n",
    "        print(\"DRAW!!!!\")\n",
    "        replay()\n"
   ]
  },
  {
   "cell_type": "code",
   "execution_count": null,
   "metadata": {
    "tags": []
   },
   "outputs": [],
   "source": [
    "new_game()"
   ]
  }
 ],
 "metadata": {
  "kernelspec": {
   "display_name": "Python 3",
   "language": "python",
   "name": "python3"
  },
  "language_info": {
   "codemirror_mode": {
    "name": "ipython",
    "version": 3
   },
   "file_extension": ".py",
   "mimetype": "text/x-python",
   "name": "python",
   "nbconvert_exporter": "python",
   "pygments_lexer": "ipython3",
   "version": "3.8.3-final"
  }
 },
 "nbformat": 4,
 "nbformat_minor": 4
}